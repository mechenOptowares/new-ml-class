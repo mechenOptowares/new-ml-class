{
 "cells": [
  {
   "cell_type": "code",
   "execution_count": 1,
   "metadata": {},
   "outputs": [
    {
     "name": "stderr",
     "output_type": "stream",
     "text": [
      "Using TensorFlow backend.\n"
     ]
    },
    {
     "name": "stdout",
     "output_type": "stream",
     "text": [
      "W&B Run: https://app.wandb.ai/mlclass/digits-may1/runs/numtblfh\n",
      "Call `%%wandb` in the cell containing your training loop to display live results.\n"
     ]
    }
   ],
   "source": [
    "from keras.datasets import mnist\n",
    "from keras.models import Sequential\n",
    "from keras.layers import Dense, Flatten\n",
    "\n",
    "import wandb\n",
    "from wandb.keras import WandbCallback\n",
    "\n",
    "# logging code\n",
    "run = wandb.init()\n",
    "config = run.config"
   ]
  },
  {
   "cell_type": "code",
   "execution_count": 2,
   "metadata": {},
   "outputs": [],
   "source": [
    "# load data\n",
    "(X_train, y_train), (X_test, y_test) = mnist.load_data()"
   ]
  },
  {
   "cell_type": "code",
   "execution_count": 3,
   "metadata": {},
   "outputs": [],
   "source": [
    "# create labels - separate into yes - five or no - five\n",
    "is_five_train = y_train == 5\n",
    "is_five_test = y_test == 5\n",
    "labels = [\"Not Five\", \"Is Five\"]"
   ]
  },
  {
   "cell_type": "code",
   "execution_count": 5,
   "metadata": {},
   "outputs": [],
   "source": [
    "img_width = X_train.shape[1]\n",
    "img_height = X_train.shape[2]"
   ]
  },
  {
   "cell_type": "code",
   "execution_count": 8,
   "metadata": {},
   "outputs": [
    {
     "name": "stdout",
     "output_type": "stream",
     "text": [
      "WARNING:tensorflow:From /usr/local/lib/python3.6/dist-packages/tensorflow/python/ops/math_ops.py:3066: to_int32 (from tensorflow.python.ops.math_ops) is deprecated and will be removed in a future version.\n",
      "Instructions for updating:\n",
      "Use tf.cast instead.\n",
      "Train on 60000 samples, validate on 10000 samples\n",
      "Epoch 1/6\n",
      "60000/60000 [==============================] - 8s 130us/step - loss: 0.8431 - binary_accuracy: 0.9448 - val_loss: 0.5115 - val_binary_accuracy: 0.9665\n",
      "Epoch 2/6\n",
      "60000/60000 [==============================] - 6s 106us/step - loss: 0.5621 - binary_accuracy: 0.9634 - val_loss: 0.5211 - val_binary_accuracy: 0.9656\n",
      "Epoch 3/6\n",
      "60000/60000 [==============================] - 6s 103us/step - loss: 0.5222 - binary_accuracy: 0.9660 - val_loss: 0.5793 - val_binary_accuracy: 0.9625\n",
      "Epoch 4/6\n",
      "60000/60000 [==============================] - 6s 105us/step - loss: 0.4802 - binary_accuracy: 0.9688 - val_loss: 0.3976 - val_binary_accuracy: 0.9742\n",
      "Epoch 5/6\n",
      "60000/60000 [==============================] - 6s 105us/step - loss: 0.4557 - binary_accuracy: 0.9704 - val_loss: 0.5246 - val_binary_accuracy: 0.9652\n",
      "Epoch 6/6\n",
      "60000/60000 [==============================] - 6s 105us/step - loss: 0.4613 - binary_accuracy: 0.9702 - val_loss: 0.4217 - val_binary_accuracy: 0.9724\n"
     ]
    }
   ],
   "source": [
    "# create model\n",
    "model = Sequential()\n",
    "# one layer after another\n",
    "model.add(Flatten(input_shape=(img_width, img_height)))\n",
    "# Convert the 2D matrix into a single array of number\n",
    "model.add(Dense(1, activation='sigmoid')) # dense - everyone of the input to the dense layer will have an input\n",
    "# from the previous layer, 1 means there's one perceptron (like in the slide for percentron). After one dense layer\n",
    "# the shape will be 1\n",
    "# default activation function is linear = identity function = pass the wavefunction as it is\n",
    "# activation function = sigmoid = constrain all output from 0 to 1\n",
    "model.compile(loss='binary_crossentropy', optimizer='adam',\n",
    "              metrics=['binary_accuracy'])\n",
    "# fit the model\n",
    "model.fit(X_train,is_five_train,epochs=6,validation_data=(X_test, is_five_test),\n",
    "          callbacks = [WandbCallback(data_type=\"image\",labels=labels,save_model=False)])\n",
    "model.save('percentron.h5')"
   ]
  },
  {
   "cell_type": "code",
   "execution_count": null,
   "metadata": {},
   "outputs": [],
   "source": []
  }
 ],
 "metadata": {
  "kernelspec": {
   "display_name": "Python 3",
   "language": "python",
   "name": "python3"
  },
  "language_info": {
   "codemirror_mode": {
    "name": "ipython",
    "version": 3
   },
   "file_extension": ".py",
   "mimetype": "text/x-python",
   "name": "python",
   "nbconvert_exporter": "python",
   "pygments_lexer": "ipython3",
   "version": "3.6.7"
  }
 },
 "nbformat": 4,
 "nbformat_minor": 2
}
